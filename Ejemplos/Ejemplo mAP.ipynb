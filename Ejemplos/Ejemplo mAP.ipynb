{
 "cells": [
  {
   "cell_type": "markdown",
   "id": "fd9da4d5-6c51-4169-b549-40d47110be44",
   "metadata": {},
   "source": [
    "# Ejemplo - Mean Average Precision\n",
    "\n",
    "En esta *notebook* ejemplificamos cómo calcular la métrica de *mean average precision* paso a paso con `numpy`.\n",
    "\n",
    "![image](https://user-images.githubusercontent.com/59797580/123177755-3e2abc80-d45c-11eb-985f-29a564a20da7.png)\n",
    "\n",
    "Artículos recomendados:\n",
    "* [Breaking Down Mean Average Precision (mAP)](https://towardsdatascience.com/breaking-down-mean-average-precision-map-ae462f623a52)\n",
    "* [MRR vs MAP vs NDCG: Rank-Aware Evaluation Metrics And When To Use Them](https://medium.com/swlh/rank-aware-recsys-evaluation-metrics-5191bba16832)"
   ]
  },
  {
   "cell_type": "code",
   "execution_count": 1,
   "id": "9f906245-9d21-4dcf-baad-9ec924e6321f",
   "metadata": {},
   "outputs": [],
   "source": [
    "import numpy as np\n",
    "np.set_printoptions(precision=2)"
   ]
  },
  {
   "cell_type": "code",
   "execution_count": 2,
   "id": "158a13c9-c5ad-4d28-9d39-5a45e37b2646",
   "metadata": {},
   "outputs": [],
   "source": [
    "# Recomendaciones para los distintos usuarios\n",
    "preds = [\n",
    "    [1, 2, 3, 4, 5],\n",
    "    [2, 3, 4, 1, 5],\n",
    "]\n",
    "    \n",
    "# Ítems relevantes\n",
    "labels = [\n",
    "    [1, 3, 4],\n",
    "    [1, 5]\n",
    "]"
   ]
  },
  {
   "cell_type": "markdown",
   "id": "a2860002-15e9-4171-8cc8-edd22cf48201",
   "metadata": {},
   "source": [
    "#### Average Precision:\n",
    "\n",
    "$$ AP = \\frac{\\sum^{n}_{k=1}P(k) \\times rel(k)}{cantidad\\ de\\ items\\ relevantes} $$"
   ]
  },
  {
   "cell_type": "code",
   "execution_count": 3,
   "id": "ee3f2340-3376-42be-a32c-ecbab9faed08",
   "metadata": {},
   "outputs": [
    {
     "name": "stdout",
     "output_type": "stream",
     "text": [
      "[1, 2, 3, 4, 5] [1, 3, 4]\n",
      "n = 5\n",
      "ítems relevantes = [ True False  True  True False]\n",
      "contador de verdaderos positivos = [1 2 3]\n",
      "posiciones de los ítems relevantes = [1. 3. 4.]\n",
      "P(k) a promediar = ['1/1', '2/3', '3/4']\n",
      "average precision = 0.806\n",
      "\n",
      "\n",
      "[2, 3, 4, 1, 5] [1, 5]\n",
      "n = 5\n",
      "ítems relevantes = [False False False  True  True]\n",
      "contador de verdaderos positivos = [1 2]\n",
      "posiciones de los ítems relevantes = [4. 5.]\n",
      "P(k) a promediar = ['1/4', '2/5']\n",
      "average precision = 0.325\n",
      "\n",
      "\n"
     ]
    }
   ],
   "source": [
    "aps = [] # lista vacía para ir almacenando la AP de cada recomendación\n",
    "for pred, label in zip(preds, labels):\n",
    "    print(pred, label)\n",
    "    n = len(pred) # cantidad de elementos recomendados\n",
    "    print(f'n = {n}')\n",
    "    arange = np.arange(n, dtype=np.int32) + 1. # indexamos en base 1\n",
    "    rel_k = np.in1d(pred[:n], label) # lista de booleanos que indican la relevancia de cada ítem\n",
    "    print(f'ítems relevantes = {rel_k}')\n",
    "    tp = np.ones(rel_k.sum(), dtype=np.int32).cumsum() # lista con el contador de verdaderos positivos\n",
    "    print(f'contador de verdaderos positivos = {tp}')\n",
    "    denom = arange[rel_k] # posiciones donde se encuentran los ítems relantes\n",
    "    print(f'posiciones de los ítems relevantes = {denom}')\n",
    "    print(f\"P(k) a promediar = {[f'{x}/{int(y)}' for (x,y) in zip(tp, denom)]}\")\n",
    "    ap = (tp / denom).sum() / len(label) # average precision\n",
    "    print(f'average precision = {round(ap, 3)}')\n",
    "    aps.append(ap)\n",
    "    print('\\n')"
   ]
  },
  {
   "cell_type": "markdown",
   "id": "26507a06-7cd0-4af1-a55b-816b8ba85617",
   "metadata": {},
   "source": [
    "#### Mean Average Precision:\n",
    "\n",
    "$$ MAP = \\frac{\\sum^{Q}_{q=1}AP(q)}{Q} $$"
   ]
  },
  {
   "cell_type": "code",
   "execution_count": 4,
   "id": "cf6073d1-b3ab-4c70-9faf-df64d434e0c0",
   "metadata": {},
   "outputs": [
    {
     "name": "stdout",
     "output_type": "stream",
     "text": [
      "mean average precision = 0.565\n"
     ]
    }
   ],
   "source": [
    "MAP = np.mean(aps)\n",
    "print(f'mean average precision = {round(MAP, 3)}')"
   ]
  }
 ],
 "metadata": {
  "kernelspec": {
   "display_name": "Python 3",
   "language": "python",
   "name": "python3"
  },
  "language_info": {
   "codemirror_mode": {
    "name": "ipython",
    "version": 3
   },
   "file_extension": ".py",
   "mimetype": "text/x-python",
   "name": "python",
   "nbconvert_exporter": "python",
   "pygments_lexer": "ipython3",
   "version": "3.8.8"
  }
 },
 "nbformat": 4,
 "nbformat_minor": 5
}
